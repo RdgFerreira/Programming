{
 "cells": [
  {
   "cell_type": "markdown",
   "metadata": {
    "id": "ruYnh950B_xv"
   },
   "source": [
    "# Exercício de Programação 1\n",
    "\n",
    "2020.2 Álgebra Linear Computacional - DCC - UFMG"
   ]
  },
  {
   "cell_type": "markdown",
   "metadata": {
    "id": "x4CsNEoOF4BC"
   },
   "source": [
    "**Nome do aluno:** Rodrigo Ferreira Araújo\n",
    "\n",
    "**Matricula:** 2020006990"
   ]
  },
  {
   "cell_type": "markdown",
   "metadata": {
    "id": "Wj3pr8MlsKDK"
   },
   "source": [
    "### Questão 1\n",
    "\n",
    "Dadas as matrizes $A$, $B$ e o vetor $C$:\n",
    "\n",
    "$$\n",
    "A = \\begin{bmatrix}\n",
    " 2 & 1 & 3\\\\\n",
    " 3 & 1 & 4\\\\\n",
    " 5 & 7 & 12\n",
    "\\end{bmatrix}_{3\\times 3}\n",
    "\\qquad\n",
    "B = \\begin{bmatrix}\n",
    " 1 & 0 & 0\\\\\n",
    " 0 & 1 & 0\\\\\n",
    " 0 & 0 & 1\n",
    "\\end{bmatrix}_{3\\times 3}\n",
    "\\qquad\n",
    "C = \\begin{bmatrix}\n",
    " 3 \\\\\n",
    " 1 \\\\\n",
    " 2\n",
    "\\end{bmatrix}_{3\\times 1}\n",
    "$$\n",
    "\n",
    "Gere as matrizes D, E e o vetor F tal que:\n",
    "\n",
    "$$\n",
    "D = A B \\\\\n",
    "E = A^\\top + B\\\\\n",
    "F = A  C\n",
    "$$\n",
    "\n",
    "*Dicas:*\n",
    "* *Imprima ```A.shape, B.shape, C.shape``` e confira se as dimensões de suas matrizes batem com a descrição do enunciado.*\n",
    "* As operações de produto e transposição estão definidas na documentação da biblioteca ```numpy```."
   ]
  },
  {
   "cell_type": "code",
   "execution_count": 203,
   "metadata": {
    "colab": {
     "base_uri": "https://localhost:8080/"
    },
    "id": "9ttFs0HQxBj-",
    "outputId": "c2f44cf1-a618-4d96-9c79-3b6a3e655c8a"
   },
   "outputs": [
    {
     "name": "stdout",
     "output_type": "stream",
     "text": [
      "(3, 3)\n",
      "(3, 3)\n",
      "(3, 1)\n",
      "[[ 2  1  3]\n",
      " [ 3  1  4]\n",
      " [ 5  7 12]]\n",
      "[[ 3  3  5]\n",
      " [ 1  2  7]\n",
      " [ 3  4 13]]\n",
      "[[13]\n",
      " [18]\n",
      " [46]]\n"
     ]
    }
   ],
   "source": [
    "# Código para Exercício 1\n",
    "import numpy as np\n",
    "A = np.array([[2,1,3],[3,1,4],[5,7,12]])\n",
    "B = np.array([[1,0,0],[0,1,0],[0,0,1]])\n",
    "C = np.array([[3],[1],[2]])\n",
    "\n",
    "D = np.matmul(A,B)\n",
    "E = A.transpose() + B\n",
    "F = np.matmul(A,C)\n",
    "\n",
    "print(A.shape)\n",
    "print(B.shape)\n",
    "print(C.shape)\n",
    "#print(A.transpose())\n",
    "\n",
    "print(D)\n",
    "print(E)\n",
    "print(F)\n",
    "\n"
   ]
  },
  {
   "cell_type": "markdown",
   "metadata": {
    "id": "6rP_Qt3xGiZv"
   },
   "source": [
    "### Questão 2\n"
   ]
  },
  {
   "cell_type": "markdown",
   "metadata": {
    "id": "s27s4Jp-U9n1"
   },
   "source": [
    "\n",
    "#### Questão 2.1\n",
    "\n",
    "Uma forma de representar um vetor no espaço é através de um ponto localizado na extremidade da \"seta\" do vetor. Essa representação é especialmente útil quando queremos vizualizar uma grande quantidade de vetores. Crie um array chamado `dados`, de tamanho $n \\times 2$, em que cada linha represente um dos seguintes vetores de tamanho 2:\n",
    "\n",
    "- $(\\ 0.7,\\ 0.7\\ )$\n",
    "- $(\\ 0.0,\\ 1.0\\ )$\n",
    "- $(\\ -0.7,\\ 0.7\\ )$\n",
    "- $(\\ -1.0,\\ 0.0\\ )$\n",
    "- $(\\ -0.7,\\ -0.7\\ )$\n",
    "- $(\\ 0.0,\\ -1.0\\ )$\n",
    "- $(\\ 0.7,\\ -0.7\\ )$\n",
    "- $(\\ 1.0,\\ 0.0\\ )$\n",
    "\n",
    "\n",
    "Você pode achar a documentação do [`np.array`](https://numpy.org/doc/stable/reference/generated/numpy.array.html) útil."
   ]
  },
  {
   "cell_type": "code",
   "execution_count": 204,
   "metadata": {
    "colab": {
     "base_uri": "https://localhost:8080/"
    },
    "id": "laSnwDnTT2b2",
    "outputId": "737cf2c0-30fc-48af-d3cd-ffbbc9fcc365"
   },
   "outputs": [
    {
     "name": "stdout",
     "output_type": "stream",
     "text": [
      "[[ 0.7  0.7]\n",
      " [ 0.   1. ]\n",
      " [-0.7  0.7]\n",
      " [-1.   0. ]\n",
      " [-0.7 -0.7]\n",
      " [ 0.  -1. ]\n",
      " [ 0.7 -0.7]\n",
      " [ 1.   0. ]]\n"
     ]
    }
   ],
   "source": [
    "# Código para Exercício 2.1\n",
    "import numpy as np\n",
    "#np.array([[0.7,0.7], [0.0,1.0], [-0.7,0.7], [-1.0,0.0], [-0.7,-0.7], [0,0,-1.0], [0.7,-0.7], [1.0,0.0]])\n",
    "dados = np.array(np.mat('0.7 0.7; 0.0 1.0; -0.7 0.7; -1.0 0.0; -0.7 -0.7; 0.0 -1.0; 0.7 -0.7; 1.0 0.0'))\n",
    "print(dados)\n",
    "\n"
   ]
  },
  {
   "cell_type": "markdown",
   "metadata": {
    "id": "MQBRlGAST7YU"
   },
   "source": [
    "#### Questão 2.2\n",
    "\n",
    "Vamos agora visualizar esses pontos no espaço 2D. Para isso, podemos usar a biblioteca [`matplotlib`](https://matplotlib.org/). Agora, com as coordenadas $x$ e $y$ dos pontos do exercício anterior, crie um gráfico de dispersão que mostre cada ponto no plano. Voce pode achar a documentação de [`plt.scatter`](https://matplotlib.org/3.1.0/api/_as_gen/matplotlib.pyplot.scatter.html) útil, além da dica que para escolher a coluna $i$ de um array bi-dimensional usamos `x[:, i]` (consulte essa página sobre [indexing](https://numpy.org/doc/stable/reference/arrays.indexing.html) em `numpy.arrays` para mais detalhes)."
   ]
  },
  {
   "cell_type": "code",
   "execution_count": 205,
   "metadata": {
    "colab": {
     "base_uri": "https://localhost:8080/",
     "height": 530
    },
    "id": "5EQWl7ATGtr1",
    "outputId": "abae20db-4239-4066-9b5e-d5345c52f906"
   },
   "outputs": [
    {
     "name": "stdout",
     "output_type": "stream",
     "text": [
      "[ 0.7  0.  -0.7 -1.  -0.7  0.   0.7  1. ] [ 0.7  1.   0.7  0.  -0.7 -1.  -0.7  0. ]\n"
     ]
    },
    {
     "data": {
      "image/png": "[encoded data removed]",
      "text/plain": [
       "<Figure size 432x288 with 1 Axes>"
      ]
     },
     "metadata": {
      "needs_background": "light",
      "tags": []
     },
     "output_type": "display_data"
    },
    {
     "data": {
      "image/png": "[encoded data removed]",
      "text/plain": [
       "<Figure size 432x288 with 1 Axes>"
      ]
     },
     "metadata": {
      "needs_background": "light",
      "tags": []
     },
     "output_type": "display_data"
    }
   ],
   "source": [
    "# Código para Exercício 2.2\n",
    "import matplotlib.pyplot as plt\n",
    "import numpy as np\n",
    "\n",
    "\n",
    "x = dados[:, 0] #Armazena o array de valores da primeira coluna de M na coordenada x do gráfico\n",
    "y = dados[:, 1] #Armazena o array de valores da segunda coluna de M na coordenada y do gráfico\n",
    "print(x, y)\n",
    "\n",
    "plt.plot(x, y, 'r.') #Cria o gráfico com pontos vermelhos em destaque referentes às coordenadas representadas pelas 8 linhas de M\n",
    "plt.show() #Display no gráfico atual\n",
    "\n",
    "plt.plot(x, y) #Cria o gráfico com pontos conectados por linhas azuis referentes às coordenadas representadas pelas 8 linhas de M\n",
    "plt.show()\n"
   ]
  },
  {
   "cell_type": "markdown",
   "metadata": {
    "id": "HjvjGXteUoa4"
   },
   "source": [
    "#### Questão 2.3\n",
    "\n",
    "Agora que temos como visualizar os vetores no plano, vamos fazer operação de adição de vetores. Crie um array que represente um vetor $\\textbf{a}=(\\ 6,\\ 9\\ )$ e adicione-o a todos os vetores no nosso array, criando um novo array chamado `novos_dados`.\n",
    "\n",
    "**Dica**: Quando estamos tratando de matrizes, não podemos simplesmente adicionar uma matriz de tamanho $n \\times 2$ por um vetor de tamanho $2$, ou $1 \\times 2$. Porém, o `numpy` tem uma funcionalidade que é muito útil quando queremos fazer operações entre arrays que não possuem o mesmo tamanho, como é o nosso caso (podemos ver isso usando: `print(dados.shape, a.shape)`). Essa funcionalidade é o [broadcasting](https://numpy.org/doc/stable/user/basics.broadcasting.html), e ela nos ajuda a fazer operações entre arrays que não possuem o mesmo tamanho, mas algumas dimensões são compatíveis. "
   ]
  },
  {
   "cell_type": "code",
   "execution_count": 206,
   "metadata": {
    "colab": {
     "base_uri": "https://localhost:8080/"
    },
    "id": "E3Yg_vv1U2Q6",
    "outputId": "45e8ba83-1e2a-4ca0-c20e-99e061839399"
   },
   "outputs": [
    {
     "name": "stdout",
     "output_type": "stream",
     "text": [
      "[6 9]\n",
      "[[6 9]]\n",
      "[[ 0.7  0.7]\n",
      " [ 0.   1. ]\n",
      " [-0.7  0.7]\n",
      " [-1.   0. ]\n",
      " [-0.7 -0.7]\n",
      " [ 0.  -1. ]\n",
      " [ 0.7 -0.7]\n",
      " [ 1.   0. ]]\n",
      "(1, 2) (8, 2)\n",
      "(8, 2)\n",
      "[[ 6.7  9.7]\n",
      " [ 6.  10. ]\n",
      " [ 5.3  9.7]\n",
      " [ 5.   9. ]\n",
      " [ 5.3  8.3]\n",
      " [ 6.   8. ]\n",
      " [ 6.7  8.3]\n",
      " [ 7.   9. ]]\n"
     ]
    }
   ],
   "source": [
    "# Código para Exercício 2.3\n",
    "a = np.array([6, 9])\n",
    "print(a)\n",
    "a = a[np.newaxis,:]\n",
    "print(a)\n",
    "print(dados)\n",
    "print(a.shape, dados.shape)\n",
    "# dados        (2d array):  8 x 2\n",
    "# a            (1d array):      1\n",
    "# novos_dados  (2d array):  8 x 2\n",
    "print((dados + a).shape)\n",
    "novos_dados = dados + a\n",
    "print(novos_dados)\n",
    "# novos_dados = dados[:, np.newaxis] + a\n",
    "# novos_dados\n",
    "\n"
   ]
  },
  {
   "cell_type": "markdown",
   "metadata": {
    "id": "dx5BrTVbdUS7"
   },
   "source": [
    "#### Questão 2.4\n",
    "\n",
    "Note que para somar arrays de dimensões diferentes (nesse caso, dados é 2D e a é 1D), o broadcasting primeiro adiciona dimensões de tamanho 1 ao início do array com menos dimensões. Só depois ele expande as dimensões de tamanho 1 para que casem com os tamanhos das dimensões do outro array.\n",
    "\n",
    "Portanto, devemos pensar no array ```a``` como um vetor coluna ou como um vetor linha?"
   ]
  },
  {
   "cell_type": "markdown",
   "metadata": {
    "id": "vVVBkK6ceWP9"
   },
   "source": [
    "**Resposta:** *insira sua resposta aqui*\n",
    "  Como observado no código acima, a transformação do array 'a' em um vetor linha (1x2) por meio do comando \"a = a[np.newaxis,:]\" possibilita que os valores de a e a operação pretendida (soma) sejam transmitidos (broadcasted) através das linhas do array 2D 'dados', produzindo o array 'novos_dados' com as somas realizadas. Desse modo, 'a' deve ser pensado como um vetor linha."
   ]
  },
  {
   "cell_type": "markdown",
   "metadata": {
    "id": "DxzZGekorL3m"
   },
   "source": [
    "#### Questão 2.5\n",
    "\n",
    "Agora podemos ver no espaço 2D nossos vetores originais e os vetores resultantes da soma. Para isso, podemos usar a mesma função que usamos para criar o gráfico de dispersão na **Questão 2.2**, porém agora queremos mostrar os pontos de 2 arrays, e não de apenas 1."
   ]
  },
  {
   "cell_type": "code",
   "execution_count": 207,
   "metadata": {
    "colab": {
     "base_uri": "https://localhost:8080/",
     "height": 265
    },
    "id": "xeBdgoFMrQwP",
    "outputId": "f9117568-c759-4a86-a610-1b0e13c73a19"
   },
   "outputs": [
    {
     "data": {
      "image/png": "[encoded data removed]",
      "text/plain": [
       "<Figure size 432x288 with 1 Axes>"
      ]
     },
     "metadata": {
      "needs_background": "light",
      "tags": []
     },
     "output_type": "display_data"
    }
   ],
   "source": [
    "# Código para Exercício 2.5\n",
    "x = np.concatenate([dados[:,0], novos_dados[:,0]])\n",
    "y = np.concatenate([dados[:,1], novos_dados[:,1]])\n",
    "plt.plot(x, y, 'r.') \n",
    "plt.show()"
   ]
  },
  {
   "cell_type": "markdown",
   "metadata": {
    "id": "Sz1apyFP090L"
   },
   "source": [
    "### Questão 3\n",
    "\n",
    "Como visto em aula, a multiplicação de uma matriz $G$ por um vetor $\\mathbb{x}$ pode ser vista como uma combinação linear das colunas de $G$.\n"
   ]
  },
  {
   "cell_type": "markdown",
   "metadata": {
    "id": "6Ij42r1ctg0g"
   },
   "source": [
    "\n",
    "#### Questão 3.1\n",
    "\n",
    "Dado a matriz $G$ e o vetor $\\mathbb{x}$:\n",
    "\n",
    "$$\n",
    "G = \\begin{bmatrix}\n",
    " 3 & 6 & 9\\\\\n",
    " 5 & 10 & 15\n",
    "\\end{bmatrix}_{2\\times 3}\n",
    "\\qquad\n",
    "\\mathbb{x} = \\begin{bmatrix}\n",
    " 2 \\\\\n",
    " 1 \\\\\n",
    " 1\n",
    "\\end{bmatrix}_{3\\times 1}\n",
    "$$\n",
    "\n",
    "Gere o vetor $\\mathbb{y}$ tal que:\n",
    "$$\n",
    "\\mathbb{y} = G \\mathbb{x} \\\\\n",
    "$$\n"
   ]
  },
  {
   "cell_type": "code",
   "execution_count": 208,
   "metadata": {
    "colab": {
     "base_uri": "https://localhost:8080/"
    },
    "id": "cGNQcr7Ptk0r",
    "outputId": "1d8e670b-c1f6-4a90-c56a-5d1ca58ef54f"
   },
   "outputs": [
    {
     "name": "stdout",
     "output_type": "stream",
     "text": [
      "(2, 3)\n",
      "[[ 3  6  9]\n",
      " [ 5 10 15]] \n",
      "\n",
      "(3, 1)\n",
      "[[2]\n",
      " [1]\n",
      " [1]] \n",
      "\n",
      "(2, 1)\n",
      "[[21]\n",
      " [35]] \n",
      "\n",
      "(2, 1)\n",
      "[[0]\n",
      " [0]] \n",
      "\n",
      "(2, 1)\n",
      "[[21]\n",
      " [35]] \n",
      "\n",
      "(2, 1)\n",
      "[[21]\n",
      " [35]] \n",
      "\n"
     ]
    }
   ],
   "source": [
    "# Código para Exercício 3.1\n",
    "# G(2x3) . x(3x1) = y(2x1)\n",
    "G = np.array([[3, 6, 9], [5, 10, 15]]) \n",
    "print(G.shape)                          # Criação de G\n",
    "print(G,'\\n')\n",
    "\n",
    "x = (np.array([2, 1, 1])).reshape(3,1)\n",
    "print(x.shape)                          # Criação de x\n",
    "print(x,'\\n')\n",
    "\n",
    "y = np.matmul(G, x)\n",
    "print(y.shape)                          # Produzindo y = Gx por meio do comando matmul\n",
    "print(y,'\\n')\n",
    "\n",
    "y = np.zeros((G.shape[0], x.shape[1]), dtype=int)\n",
    "print(y.shape)                                    # Limpando y com zeros\n",
    "print(y,'\\n')\n",
    "\n",
    "for i in range(G.shape[0]):           # Produzindo y = Gx por meio de algoritmo de multplicação de matrizes\n",
    "  for j in range(G.shape[1]): # Ou x.shape[0]\n",
    "    y[i,0] += G[i][j] * x[j,0]\n",
    "print(y.shape)\n",
    "print(y,'\\n')\n",
    "\n",
    "y = np.zeros((G.shape[0], x.shape[1]), dtype=int)\n",
    "#print(G[:,0].reshape(2,1), x[0])\n",
    "\n",
    "for i in range(G.shape[1]):           # Produzindo y = Gx por meio da combiação linear das colunas de G usando os coeficientes do vetor coluna x\n",
    "  y += G[:,i].reshape(2,1) * x[i]\n",
    "print(y.shape)\n",
    "print(y,'\\n')"
   ]
  },
  {
   "cell_type": "markdown",
   "metadata": {
    "id": "rD0TR2nPuIo8"
   },
   "source": [
    "#### Questão 3.2\n",
    "\n",
    "O espaço de colunas de uma matriz pode ser interpretado como o espaço formado por todas as combinações lineares das colunas da matriz. Então, vamos simular a representação do espaço de colunas da matriz $G$ criada anteriormente fazendo várias combinações lineares de suas colunas. Para isso, podemos criar vários vetores-coluna $x$ aleatórios, calcular a operação $y = Gx$ para cada um deles, e mostrar onde cada vetor $y$ está localizado no espaço. Portanto, faça os seguintes passos:\n",
    "\n",
    "1. Crie um vetor-coluna $x \\in \\mathbb{R}^{3 \\times 1}$ com valores aleatórios entre $-10$ e $10$.\n",
    "1. Calcule $y = Gx$. Esse passo pode ser feito da mesma forma que a **Questão 3.1**.\n",
    "1. Plote no plano 2D um ponto com as coordenadas do $y$ resultante.\n",
    "\n",
    "Repita esses passos 10 vezes. **Dica:** para a criação dos valores $x$ aleatórios, voce pode escolher os números você mesmo ou usar a função [`np.random.randint`](https://numpy.org/doc/stable/reference/random/generated/numpy.random.randint.html). Para a  visualização, utilize a biblioteca [`matplotlib`](https://matplotlib.org/), e deixe para usar `plt.show()` apenas depois de ter plotado todos os vetores $y$, para que todos apareçam no mesmo gráfico."
   ]
  },
  {
   "cell_type": "code",
   "execution_count": 209,
   "metadata": {
    "colab": {
     "base_uri": "https://localhost:8080/",
     "height": 265
    },
    "id": "bf8B6CPPwXsE",
    "outputId": "57e31d9f-ff94-4f72-b374-bd0776ac013c"
   },
   "outputs": [
    {
     "data": {
      "image/png": "[encoded data removed]",
      "text/plain": [
       "<Figure size 432x288 with 1 Axes>"
      ]
     },
     "metadata": {
      "needs_background": "light",
      "tags": []
     },
     "output_type": "display_data"
    }
   ],
   "source": [
    "# Código para Exercício 3.2\n",
    "for vezes in range(10):\n",
    "  x = np.random.randint(-10, 11, (3, 1))\n",
    "  #print(x)\n",
    "  y = np.matmul(G, x)\n",
    "  #print(y)\n",
    "  _x = y[0]\n",
    "  #print(_x)\n",
    "  _y = y[1]\n",
    "  #print(_y)\n",
    "  plt.plot(_x, _y, 'g.') \n",
    "plt.show()\n",
    "\n",
    "\n",
    "\n"
   ]
  },
  {
   "cell_type": "markdown",
   "metadata": {
    "id": "WWwfDjZQyBKt"
   },
   "source": [
    "#### Questão 3.3\n",
    "\n",
    "No item anterior, você deve ter obtido uma reta ao visualizar o gráfico resultante. Por que isso acontece no caso dessa matriz $G$ em específico?"
   ]
  },
  {
   "cell_type": "markdown",
   "metadata": {
    "id": "mpB7U8BqyEQl"
   },
   "source": [
    "**Resposta:** *insira sua resposta aqui*\n",
    "No caso da matriz G, percebe-se claramente que duas de suas colunas podem ser escritas como combinação linear de apenas uma coluna, ou seja, o posto de G é igual a 1. Portanto, os vetores coluna x aleatórios irão produzir vetores coluna y que também podem ser representados como combinação linear de apenas uma das colunas de G, o que gera, então, pontos no gráfico cujas coordenadas variam linearmente. Desse modo, ao plotar os pontos no gráfico, obtemos uma reta."
   ]
  },
  {
   "cell_type": "markdown",
   "metadata": {
    "id": "9XrQcmBc4RVE"
   },
   "source": [
    "#### Questão 3.4\n",
    "\n",
    "Agora que sabemos que o espaço coluna da matriz $G$ é uma reta, encontre dois pontos no espaço coluna $C(G)$ e use o comando ```plt.plot()``` para traçá-la."
   ]
  },
  {
   "cell_type": "code",
   "execution_count": 210,
   "metadata": {
    "colab": {
     "base_uri": "https://localhost:8080/",
     "height": 265
    },
    "id": "S-zMnudo4kXZ",
    "outputId": "1e54540a-eff6-44a8-b7ca-6752cab6e800"
   },
   "outputs": [
    {
     "data": {
      "image/png": "[encoded data removed]",
      "text/plain": [
       "<Figure size 432x288 with 1 Axes>"
      ]
     },
     "metadata": {
      "needs_background": "light",
      "tags": []
     },
     "output_type": "display_data"
    }
   ],
   "source": [
    "# Código para Exercício 3.4\n",
    "x = np.random.randint(-10, 11, (3, 1))\n",
    "y = np.matmul(G, x)\n",
    "x = np.random.randint(-10, 11, (3, 1))\n",
    "y2 = np.matmul(G, x)\n",
    "_x = np.array([y[0], y2[0]])\n",
    "_y = np.array([y[1], y2[1]])\n",
    "plt.plot(_x, _y, '-', linewidth=3)\n",
    "plt.show()\n"
   ]
  }
 ],
 "metadata": {
  "colab": {
   "collapsed_sections": [],
   "name": "EP1.ipynb",
   "provenance": []
  },
  "kernelspec": {
   "display_name": "Python 3",
   "language": "python",
   "name": "python3"
  },
  "language_info": {
   "codemirror_mode": {
    "name": "ipython",
    "version": 3
   },
   "file_extension": ".py",
   "mimetype": "text/x-python",
   "name": "python",
   "nbconvert_exporter": "python",
   "pygments_lexer": "ipython3",
   "version": "3.8.8"
  }
 },
 "nbformat": 4,
 "nbformat_minor": 1
}
